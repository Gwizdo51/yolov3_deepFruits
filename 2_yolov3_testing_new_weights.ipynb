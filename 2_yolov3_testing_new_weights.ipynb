{
  "nbformat": 4,
  "nbformat_minor": 0,
  "metadata": {
    "colab": {
      "name": "yolov3_testing_new_weights.ipynb",
      "provenance": [],
      "collapsed_sections": [],
      "authorship_tag": "ABX9TyOfkOC+px+ghN2/7PF4Xkkf",
      "include_colab_link": true
    },
    "kernelspec": {
      "name": "python3",
      "display_name": "Python 3"
    },
    "language_info": {
      "name": "python"
    },
    "accelerator": "GPU"
  },
  "cells": [
    {
      "cell_type": "markdown",
      "metadata": {
        "id": "view-in-github",
        "colab_type": "text"
      },
      "source": [
        "<a href=\"https://colab.research.google.com/github/Gwizdo51/yolov3_deepFruits/blob/dev/2_yolov3_testing_new_weights.ipynb\" target=\"_parent\"><img src=\"https://colab.research.google.com/assets/colab-badge.svg\" alt=\"Open In Colab\"/></a>"
      ]
    },
    {
      "cell_type": "markdown",
      "metadata": {
        "id": "2btRufIfShvh"
      },
      "source": [
        "# Setup"
      ]
    },
    {
      "cell_type": "markdown",
      "metadata": {
        "id": "dAoFnBUpSlGE"
      },
      "source": [
        "download github repo and the new weights for YOLO"
      ]
    },
    {
      "cell_type": "code",
      "metadata": {
        "id": "UKzQIVbrOQhR",
        "colab": {
          "base_uri": "https://localhost:8080/"
        },
        "outputId": "de9fdb07-c5e9-4a54-ae6d-8d50a1644478"
      },
      "source": [
        "!git clone https://github.com/Gwizdo51/yolov3_deepFruits.git\n",
        "%cd yolov3_deepFruits\n",
        "!git checkout dev\n",
        "%pip install -r requirements.txt"
      ],
      "execution_count": 1,
      "outputs": [
        {
          "output_type": "stream",
          "text": [
            "Cloning into 'yolov3_deepFruits'...\n",
            "remote: Enumerating objects: 86, done.\u001b[K\n",
            "remote: Counting objects: 100% (86/86), done.\u001b[K\n",
            "remote: Compressing objects: 100% (64/64), done.\u001b[K\n",
            "remote: Total 86 (delta 38), reused 49 (delta 13), pack-reused 0\u001b[K\n",
            "Unpacking objects: 100% (86/86), done.\n",
            "/content/yolov3_deepFruits\n",
            "Branch 'dev' set up to track remote branch 'dev' from 'origin'.\n",
            "Switched to a new branch 'dev'\n",
            "Requirement already satisfied: numpy>=1.19.5 in /usr/local/lib/python3.7/dist-packages (from -r requirements.txt (line 1)) (1.19.5)\n",
            "Requirement already satisfied: Pillow>=7.1.2 in /usr/local/lib/python3.7/dist-packages (from -r requirements.txt (line 2)) (7.1.2)\n",
            "Requirement already satisfied: tqdm>=4.41.0 in /usr/local/lib/python3.7/dist-packages (from -r requirements.txt (line 3)) (4.41.1)\n"
          ],
          "name": "stdout"
        }
      ]
    },
    {
      "cell_type": "code",
      "metadata": {
        "colab": {
          "base_uri": "https://localhost:8080/"
        },
        "id": "ZCcD9gNEQ89j",
        "outputId": "acb10963-13f8-448d-88ae-cae8ad2b2024"
      },
      "source": [
        "import download_deepfruits_dataset\n",
        "\n",
        "download_deepfruits_dataset.download_file_from_google_drive(\"1ij4hEXrvv9158-qxJxXhxl0URHKDnalo\", \"yolov3_deepFruits_100epochs.pt\")"
      ],
      "execution_count": 2,
      "outputs": [
        {
          "output_type": "stream",
          "text": [
            "176it [00:01, 165.79it/s]\n"
          ],
          "name": "stderr"
        }
      ]
    },
    {
      "cell_type": "markdown",
      "metadata": {
        "id": "ijHYy4fUSz_h"
      },
      "source": [
        "download YOLOv3 repo and the deepFruits dataset"
      ]
    },
    {
      "cell_type": "code",
      "metadata": {
        "colab": {
          "base_uri": "https://localhost:8080/"
        },
        "id": "Xbqz08mVTNnD",
        "outputId": "b6f13c6f-fb84-4fac-a972-115172c09234"
      },
      "source": [
        "!python download_deepfruits_dataset.py\n",
        "!unzip -q deepFruits_dataset.zip -d ./ && rm deepFruits_dataset.zip\n",
        "!python prepare_deepfruits_for_training.py -v\n",
        "!rm -r deepFruits_dataset/"
      ],
      "execution_count": 3,
      "outputs": [
        {
          "output_type": "stream",
          "text": [
            "Downloading dataset zip file ...\n",
            "952it [00:09, 105.24it/s]\n",
            "DeepFruits dataset downloaded.\n",
            "Preparing dataset ...\n",
            "Creating folder ...\n",
            "Done.\n",
            "Converting and copying images ...\n",
            "n12710693_14626.jpg\n",
            "Done.\n",
            "Creating labels ...\n",
            "n12710693_9822.txt\n",
            "Done.\n",
            "Deleting useless data ...\n",
            "Test images without labels : ['IMG_3020', 'img_2942', 'img_2120', '20151125T1143_pic000398', '20151125T1138_pic000459', '5-charentais-melons-eb', 'rockmelon1', '20151125T1143_pic000224', '20151125T1138_pic000405', 'Blewah-benih-Buah-batu-biji-melon-Cina-Xinjiang-khusus-10-partikel-benih', '20151125T1143_pic000354', 'cantaloupe-seeds-fruit-rock-melon-seeds-melon-seeds-Chinese-Xinjiang-specialty-10-Seed-particles', '6011852-3x2-940x627', '3767021934_a224ce6b99_b', '20151125T1143_pic000304', 'hqdefault', '14943420-Growing-organic-vegetables-on-farm-in-Rocky-Ford-Colorado--Stock-Photo', 'photo11', '86']\n",
            "Train images without labels : []\n",
            "Test labels without images : ['n07756641_4481', 'n07756641_3980', 'n07756641_702', 'n07756641_4886', 'n07756641_5433', 'n07756641_2478']\n",
            "Train labels without images : []\n",
            "Done.\n",
            "Recomputing labels with image size ...\n",
            "3007\n",
            "Done.\n",
            "Resizing images ...\n",
            "n12761284_3431.jpg\n",
            "Done.\n",
            "DeepFruits dataset prepared for training.\n",
            "Making YAML file ...\n",
            "YAML file ready for training.\n"
          ],
          "name": "stdout"
        }
      ]
    },
    {
      "cell_type": "code",
      "metadata": {
        "colab": {
          "base_uri": "https://localhost:8080/"
        },
        "id": "UqIi6ay4SE_u",
        "outputId": "111eae7a-01b3-4e93-c31f-8c96d6515c0c"
      },
      "source": [
        "!git clone https://github.com/ultralytics/yolov3.git\n",
        "%cd yolov3\n",
        "%pip install -r requirements.txt"
      ],
      "execution_count": 4,
      "outputs": [
        {
          "output_type": "stream",
          "text": [
            "Cloning into 'yolov3'...\n",
            "remote: Enumerating objects: 9852, done.\u001b[K\n",
            "remote: Counting objects:   1% (1/57)\u001b[K\rremote: Counting objects:   3% (2/57)\u001b[K\rremote: Counting objects:   5% (3/57)\u001b[K\rremote: Counting objects:   7% (4/57)\u001b[K\rremote: Counting objects:   8% (5/57)\u001b[K\rremote: Counting objects:  10% (6/57)\u001b[K\rremote: Counting objects:  12% (7/57)\u001b[K\rremote: Counting objects:  14% (8/57)\u001b[K\rremote: Counting objects:  15% (9/57)\u001b[K\rremote: Counting objects:  17% (10/57)\u001b[K\rremote: Counting objects:  19% (11/57)\u001b[K\rremote: Counting objects:  21% (12/57)\u001b[K\rremote: Counting objects:  22% (13/57)\u001b[K\rremote: Counting objects:  24% (14/57)\u001b[K\rremote: Counting objects:  26% (15/57)\u001b[K\rremote: Counting objects:  28% (16/57)\u001b[K\rremote: Counting objects:  29% (17/57)\u001b[K\rremote: Counting objects:  31% (18/57)\u001b[K\rremote: Counting objects:  33% (19/57)\u001b[K\rremote: Counting objects:  35% (20/57)\u001b[K\rremote: Counting objects:  36% (21/57)\u001b[K\rremote: Counting objects:  38% (22/57)\u001b[K\rremote: Counting objects:  40% (23/57)\u001b[K\rremote: Counting objects:  42% (24/57)\u001b[K\rremote: Counting objects:  43% (25/57)\u001b[K\rremote: Counting objects:  45% (26/57)\u001b[K\rremote: Counting objects:  47% (27/57)\u001b[K\rremote: Counting objects:  49% (28/57)\u001b[K\rremote: Counting objects:  50% (29/57)\u001b[K\rremote: Counting objects:  52% (30/57)\u001b[K\rremote: Counting objects:  54% (31/57)\u001b[K\rremote: Counting objects:  56% (32/57)\u001b[K\rremote: Counting objects:  57% (33/57)\u001b[K\rremote: Counting objects:  59% (34/57)\u001b[K\rremote: Counting objects:  61% (35/57)\u001b[K\rremote: Counting objects:  63% (36/57)\u001b[K\rremote: Counting objects:  64% (37/57)\u001b[K\rremote: Counting objects:  66% (38/57)\u001b[K\rremote: Counting objects:  68% (39/57)\u001b[K\rremote: Counting objects:  70% (40/57)\u001b[K\rremote: Counting objects:  71% (41/57)\u001b[K\rremote: Counting objects:  73% (42/57)\u001b[K\rremote: Counting objects:  75% (43/57)\u001b[K\rremote: Counting objects:  77% (44/57)\u001b[K\rremote: Counting objects:  78% (45/57)\u001b[K\rremote: Counting objects:  80% (46/57)\u001b[K\rremote: Counting objects:  82% (47/57)\u001b[K\rremote: Counting objects:  84% (48/57)\u001b[K\rremote: Counting objects:  85% (49/57)\u001b[K\rremote: Counting objects:  87% (50/57)\u001b[K\rremote: Counting objects:  89% (51/57)\u001b[K\rremote: Counting objects:  91% (52/57)\u001b[K\rremote: Counting objects:  92% (53/57)\u001b[K\rremote: Counting objects:  94% (54/57)\u001b[K\rremote: Counting objects:  96% (55/57)\u001b[K\rremote: Counting objects:  98% (56/57)\u001b[K\rremote: Counting objects: 100% (57/57)\u001b[K\rremote: Counting objects: 100% (57/57), done.\u001b[K\n",
            "remote: Compressing objects: 100% (56/56), done.\u001b[K\n",
            "remote: Total 9852 (delta 7), reused 17 (delta 1), pack-reused 9795\u001b[K\n",
            "Receiving objects: 100% (9852/9852), 9.45 MiB | 30.06 MiB/s, done.\n",
            "Resolving deltas: 100% (6654/6654), done.\n",
            "/content/yolov3_deepFruits/yolov3\n",
            "Requirement already satisfied: matplotlib>=3.2.2 in /usr/local/lib/python3.7/dist-packages (from -r requirements.txt (line 4)) (3.2.2)\n",
            "Requirement already satisfied: numpy>=1.18.5 in /usr/local/lib/python3.7/dist-packages (from -r requirements.txt (line 5)) (1.19.5)\n",
            "Requirement already satisfied: opencv-python>=4.1.2 in /usr/local/lib/python3.7/dist-packages (from -r requirements.txt (line 6)) (4.1.2.30)\n",
            "Requirement already satisfied: Pillow in /usr/local/lib/python3.7/dist-packages (from -r requirements.txt (line 7)) (7.1.2)\n",
            "Collecting PyYAML>=5.3.1\n",
            "\u001b[?25l  Downloading https://files.pythonhosted.org/packages/7a/a5/393c087efdc78091afa2af9f1378762f9821c9c1d7a22c5753fb5ac5f97a/PyYAML-5.4.1-cp37-cp37m-manylinux1_x86_64.whl (636kB)\n",
            "\u001b[K     |████████████████████████████████| 645kB 31.8MB/s \n",
            "\u001b[?25hRequirement already satisfied: scipy>=1.4.1 in /usr/local/lib/python3.7/dist-packages (from -r requirements.txt (line 9)) (1.4.1)\n",
            "Requirement already satisfied: torch>=1.7.0 in /usr/local/lib/python3.7/dist-packages (from -r requirements.txt (line 10)) (1.8.1+cu101)\n",
            "Requirement already satisfied: torchvision>=0.8.1 in /usr/local/lib/python3.7/dist-packages (from -r requirements.txt (line 11)) (0.9.1+cu101)\n",
            "Requirement already satisfied: tqdm>=4.41.0 in /usr/local/lib/python3.7/dist-packages (from -r requirements.txt (line 12)) (4.41.1)\n",
            "Requirement already satisfied: tensorboard>=2.4.1 in /usr/local/lib/python3.7/dist-packages (from -r requirements.txt (line 15)) (2.5.0)\n",
            "Requirement already satisfied: seaborn>=0.11.0 in /usr/local/lib/python3.7/dist-packages (from -r requirements.txt (line 19)) (0.11.1)\n",
            "Requirement already satisfied: pandas in /usr/local/lib/python3.7/dist-packages (from -r requirements.txt (line 20)) (1.1.5)\n",
            "Requirement already satisfied: pycocotools>=2.0 in /usr/local/lib/python3.7/dist-packages (from -r requirements.txt (line 29)) (2.0.2)\n",
            "Collecting thop\n",
            "  Downloading https://files.pythonhosted.org/packages/6c/8b/22ce44e1c71558161a8bd54471123cc796589c7ebbfc15a7e8932e522f83/thop-0.0.31.post2005241907-py3-none-any.whl\n",
            "Requirement already satisfied: python-dateutil>=2.1 in /usr/local/lib/python3.7/dist-packages (from matplotlib>=3.2.2->-r requirements.txt (line 4)) (2.8.1)\n",
            "Requirement already satisfied: pyparsing!=2.0.4,!=2.1.2,!=2.1.6,>=2.0.1 in /usr/local/lib/python3.7/dist-packages (from matplotlib>=3.2.2->-r requirements.txt (line 4)) (2.4.7)\n",
            "Requirement already satisfied: cycler>=0.10 in /usr/local/lib/python3.7/dist-packages (from matplotlib>=3.2.2->-r requirements.txt (line 4)) (0.10.0)\n",
            "Requirement already satisfied: kiwisolver>=1.0.1 in /usr/local/lib/python3.7/dist-packages (from matplotlib>=3.2.2->-r requirements.txt (line 4)) (1.3.1)\n",
            "Requirement already satisfied: typing-extensions in /usr/local/lib/python3.7/dist-packages (from torch>=1.7.0->-r requirements.txt (line 10)) (3.7.4.3)\n",
            "Requirement already satisfied: requests<3,>=2.21.0 in /usr/local/lib/python3.7/dist-packages (from tensorboard>=2.4.1->-r requirements.txt (line 15)) (2.23.0)\n",
            "Requirement already satisfied: markdown>=2.6.8 in /usr/local/lib/python3.7/dist-packages (from tensorboard>=2.4.1->-r requirements.txt (line 15)) (3.3.4)\n",
            "Requirement already satisfied: werkzeug>=0.11.15 in /usr/local/lib/python3.7/dist-packages (from tensorboard>=2.4.1->-r requirements.txt (line 15)) (1.0.1)\n",
            "Requirement already satisfied: protobuf>=3.6.0 in /usr/local/lib/python3.7/dist-packages (from tensorboard>=2.4.1->-r requirements.txt (line 15)) (3.12.4)\n",
            "Requirement already satisfied: grpcio>=1.24.3 in /usr/local/lib/python3.7/dist-packages (from tensorboard>=2.4.1->-r requirements.txt (line 15)) (1.34.1)\n",
            "Requirement already satisfied: setuptools>=41.0.0 in /usr/local/lib/python3.7/dist-packages (from tensorboard>=2.4.1->-r requirements.txt (line 15)) (57.0.0)\n",
            "Requirement already satisfied: tensorboard-data-server<0.7.0,>=0.6.0 in /usr/local/lib/python3.7/dist-packages (from tensorboard>=2.4.1->-r requirements.txt (line 15)) (0.6.1)\n",
            "Requirement already satisfied: google-auth<2,>=1.6.3 in /usr/local/lib/python3.7/dist-packages (from tensorboard>=2.4.1->-r requirements.txt (line 15)) (1.30.0)\n",
            "Requirement already satisfied: absl-py>=0.4 in /usr/local/lib/python3.7/dist-packages (from tensorboard>=2.4.1->-r requirements.txt (line 15)) (0.12.0)\n",
            "Requirement already satisfied: tensorboard-plugin-wit>=1.6.0 in /usr/local/lib/python3.7/dist-packages (from tensorboard>=2.4.1->-r requirements.txt (line 15)) (1.8.0)\n",
            "Requirement already satisfied: google-auth-oauthlib<0.5,>=0.4.1 in /usr/local/lib/python3.7/dist-packages (from tensorboard>=2.4.1->-r requirements.txt (line 15)) (0.4.4)\n",
            "Requirement already satisfied: wheel>=0.26; python_version >= \"3\" in /usr/local/lib/python3.7/dist-packages (from tensorboard>=2.4.1->-r requirements.txt (line 15)) (0.36.2)\n",
            "Requirement already satisfied: pytz>=2017.2 in /usr/local/lib/python3.7/dist-packages (from pandas->-r requirements.txt (line 20)) (2018.9)\n",
            "Requirement already satisfied: cython>=0.27.3 in /usr/local/lib/python3.7/dist-packages (from pycocotools>=2.0->-r requirements.txt (line 29)) (0.29.23)\n",
            "Requirement already satisfied: six>=1.5 in /usr/local/lib/python3.7/dist-packages (from python-dateutil>=2.1->matplotlib>=3.2.2->-r requirements.txt (line 4)) (1.15.0)\n",
            "Requirement already satisfied: urllib3!=1.25.0,!=1.25.1,<1.26,>=1.21.1 in /usr/local/lib/python3.7/dist-packages (from requests<3,>=2.21.0->tensorboard>=2.4.1->-r requirements.txt (line 15)) (1.24.3)\n",
            "Requirement already satisfied: chardet<4,>=3.0.2 in /usr/local/lib/python3.7/dist-packages (from requests<3,>=2.21.0->tensorboard>=2.4.1->-r requirements.txt (line 15)) (3.0.4)\n",
            "Requirement already satisfied: certifi>=2017.4.17 in /usr/local/lib/python3.7/dist-packages (from requests<3,>=2.21.0->tensorboard>=2.4.1->-r requirements.txt (line 15)) (2020.12.5)\n",
            "Requirement already satisfied: idna<3,>=2.5 in /usr/local/lib/python3.7/dist-packages (from requests<3,>=2.21.0->tensorboard>=2.4.1->-r requirements.txt (line 15)) (2.10)\n",
            "Requirement already satisfied: importlib-metadata; python_version < \"3.8\" in /usr/local/lib/python3.7/dist-packages (from markdown>=2.6.8->tensorboard>=2.4.1->-r requirements.txt (line 15)) (4.0.1)\n",
            "Requirement already satisfied: pyasn1-modules>=0.2.1 in /usr/local/lib/python3.7/dist-packages (from google-auth<2,>=1.6.3->tensorboard>=2.4.1->-r requirements.txt (line 15)) (0.2.8)\n",
            "Requirement already satisfied: rsa<5,>=3.1.4; python_version >= \"3.6\" in /usr/local/lib/python3.7/dist-packages (from google-auth<2,>=1.6.3->tensorboard>=2.4.1->-r requirements.txt (line 15)) (4.7.2)\n",
            "Requirement already satisfied: cachetools<5.0,>=2.0.0 in /usr/local/lib/python3.7/dist-packages (from google-auth<2,>=1.6.3->tensorboard>=2.4.1->-r requirements.txt (line 15)) (4.2.2)\n",
            "Requirement already satisfied: requests-oauthlib>=0.7.0 in /usr/local/lib/python3.7/dist-packages (from google-auth-oauthlib<0.5,>=0.4.1->tensorboard>=2.4.1->-r requirements.txt (line 15)) (1.3.0)\n",
            "Requirement already satisfied: zipp>=0.5 in /usr/local/lib/python3.7/dist-packages (from importlib-metadata; python_version < \"3.8\"->markdown>=2.6.8->tensorboard>=2.4.1->-r requirements.txt (line 15)) (3.4.1)\n",
            "Requirement already satisfied: pyasn1<0.5.0,>=0.4.6 in /usr/local/lib/python3.7/dist-packages (from pyasn1-modules>=0.2.1->google-auth<2,>=1.6.3->tensorboard>=2.4.1->-r requirements.txt (line 15)) (0.4.8)\n",
            "Requirement already satisfied: oauthlib>=3.0.0 in /usr/local/lib/python3.7/dist-packages (from requests-oauthlib>=0.7.0->google-auth-oauthlib<0.5,>=0.4.1->tensorboard>=2.4.1->-r requirements.txt (line 15)) (3.1.0)\n",
            "Installing collected packages: PyYAML, thop\n",
            "  Found existing installation: PyYAML 3.13\n",
            "    Uninstalling PyYAML-3.13:\n",
            "      Successfully uninstalled PyYAML-3.13\n",
            "Successfully installed PyYAML-5.4.1 thop-0.0.31.post2005241907\n"
          ],
          "name": "stdout"
        }
      ]
    },
    {
      "cell_type": "markdown",
      "metadata": {
        "id": "suhdshN7TxL1"
      },
      "source": [
        "# Tests"
      ]
    },
    {
      "cell_type": "code",
      "metadata": {
        "colab": {
          "base_uri": "https://localhost:8080/"
        },
        "id": "tt_MFXsFTwS3",
        "outputId": "b2eb4eaa-263a-42c5-9ef8-6f7217bd5c4f"
      },
      "source": [
        "!python test.py --weights \"../yolov3_deepFruits_100epochs.pt\" --data \"../deepFruits.yaml\" --img 640 --iou 0.65"
      ],
      "execution_count": 5,
      "outputs": [
        {
          "output_type": "stream",
          "text": [
            "Namespace(augment=False, batch_size=32, conf_thres=0.001, data='../deepFruits.yaml', device='', exist_ok=False, img_size=640, iou_thres=0.65, name='exp', project='runs/test', save_conf=False, save_hybrid=False, save_json=False, save_txt=False, single_cls=False, task='val', verbose=False, weights=['../yolov3_deepFruits_100epochs.pt'])\n",
            "YOLOv3 🚀 v9.5.0-11-gab7ff9d torch 1.8.1+cu101 CUDA:0 (Tesla T4, 15109.75MB)\n",
            "\n",
            "Fusing layers... \n",
            "Model Summary: 261 layers, 61529740 parameters, 0 gradients, 155.0 GFLOPS\n",
            "\u001b[34m\u001b[1mval: \u001b[0mScanning '../deepFruits_for_training/labels/test' images and labels... 108 found, 0 missing, 0 empty, 0 corrupted: 100% 108/108 [00:00<00:00, 2648.48it/s]\n",
            "\u001b[34m\u001b[1mval: \u001b[0mNew cache created: ../deepFruits_for_training/labels/test.cache\n",
            "               Class      Images      Labels           P           R      mAP@.5  mAP@.5:.95: 100% 4/4 [00:03<00:00,  1.28it/s]\n",
            "                 all         108         580       0.833       0.784       0.837       0.582\n",
            "            capsicum         108          91       0.787       0.736       0.765       0.332\n",
            "           rockmelon         108          14       0.778       0.571       0.751       0.501\n",
            "               apple         108          65       0.746       0.877       0.825       0.665\n",
            "             avocado         108          40       0.879       0.724       0.816       0.624\n",
            "               mango         108         240       0.928       0.914       0.951       0.677\n",
            "              orange         108          53       0.951       0.729       0.832       0.635\n",
            "          strawberry         108          77       0.762       0.935       0.922        0.64\n",
            "Speed: 13.2/1.9/15.0 ms inference/NMS/total per 640x640 image at batch-size 32\n",
            "Results saved to runs/test/exp\n"
          ],
          "name": "stdout"
        }
      ]
    }
  ]
}